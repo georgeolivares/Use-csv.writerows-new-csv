{
 "cells": [
  {
   "cell_type": "markdown",
   "metadata": {},
   "source": [
    "# Transfer rows which \"Job Description\" contains \"developer\""
   ]
  },
  {
   "cell_type": "code",
   "execution_count": 11,
   "metadata": {},
   "outputs": [],
   "source": [
    "import csv\n",
    "\n",
    "import pandas as pd"
   ]
  },
  {
   "cell_type": "code",
   "execution_count": 12,
   "metadata": {},
   "outputs": [
    {
     "name": "stdout",
     "output_type": "stream",
     "text": [
      "['country', 'country_code', 'date_added', 'has_expired', 'job_board', 'job_description', 'job_title', 'job_type', 'location', 'organization', 'page_url', 'salary', 'sector', 'uniq_id']\n"
     ]
    }
   ],
   "source": [
    "# Imprimir filas usando next. No puedo escoger filas en específico.\n",
    "with open('C:\\\\Users\\\\jorge\\\\Desktop\\\\monster_com-job_sample - Copy.csv', 'r', newline='') as csvfile:\n",
    "    reader = csv.reader(csvfile)\n",
    "    for i in range(1):\n",
    "        print(next(reader))"
   ]
  },
  {
   "cell_type": "code",
   "execution_count": 39,
   "metadata": {},
   "outputs": [
    {
     "name": "stdout",
     "output_type": "stream",
     "text": [
      "[40, 112, 157, 186, 246, 372, 379, 688, 689, 711, 749, 805, 858, 860, 866, 995, 1007, 1034, 1052, 1055, 1069, 1094, 1124, 1136, 1140, 1143, 1146, 1165, 1173, 1186, 1187, 1194, 1205, 1207, 1224, 1238, 1239, 1241, 1255, 1267, 1321, 1322, 1324, 1335, 1337, 1341, 1354, 1362, 1366, 1479, 1520, 1522, 1545, 1566, 1588, 1609, 1614, 1750, 1838, 1856, 1866, 1911, 1913, 1927, 1986, 1987, 2012, 2285, 2400, 2559, 2636, 2664, 2685, 2707, 2813, 2826, 2836, 2892, 2910, 2999, 3005, 3010, 3061, 3072, 3073, 3080, 3090, 3243, 3338, 3341, 3362, 3368, 3378, 3448, 3451, 3455, 3531, 3555, 3659, 3661, 3790, 3794, 3820, 3879, 3900, 4096, 4118, 4165, 4213, 4217, 4275, 4402, 4412, 4457, 4538, 4563, 4576, 4639, 4736, 4769, 4810, 4842, 4914, 4927, 4928, 4929, 4967, 4975, 4985, 5019, 5029, 5031, 5101, 5137, 5152, 5180, 5207, 5601, 5699, 5747, 5833, 5975, 5984, 6015, 6040, 6101, 6141, 6235, 6309, 6361, 6425, 6439, 6441, 6554, 6615, 6643, 6687, 6697, 6830, 6854, 6860, 6898, 6944, 6964, 6985, 6997, 7019, 7024, 7049, 7050, 7054, 7055, 7068, 7098, 7099, 7100, 7200, 7455, 7514, 7520, 7597, 7631, 7694, 7704, 7798, 7936, 7968, 8368, 8371, 8420, 8568, 8652, 8657, 8858, 9058, 9106, 9319, 9701, 9844, 10417, 10480, 10499, 10659, 10719, 10776, 10828, 10852, 10919, 11230, 11266, 11279, 11310, 11323, 11345, 11371, 11381, 11414, 11562, 11580, 11681, 11710, 11734, 11765, 11784, 11796, 11798, 11801, 11818, 11823, 11838, 11965, 12019, 12027, 12043, 12110, 12121, 12184, 12227, 12232, 12316, 12354, 12359, 12409, 12423, 12432, 12460, 12484, 12643, 12712, 12838, 12877, 12911, 12965, 12987, 12996, 13039, 13168, 13270, 13272, 13309, 13322, 13327, 13364, 13463, 13483, 13493, 13539, 13575, 13578, 13661, 13677, 13697, 13745, 13759, 13787, 13795, 13843, 13874, 13877, 13906, 13912, 13926, 13941, 13954, 13957, 13959, 13960, 13993, 14030, 14037, 14085, 14121, 14139, 14212, 14300, 14365, 15027, 15074, 15075, 15086, 15472, 15579, 15676, 15679, 15731, 15751, 15767, 15880, 16345, 16461, 16491, 16510, 16541, 16544, 16562, 16716, 16746, 16757, 16762, 16771, 16781, 16795, 16805, 16844, 16846, 16847, 16853, 16857, 16859, 16867, 16891, 16958, 17160, 17177, 17192, 17195, 17198, 17270, 17305, 17307, 17314, 17320, 17343, 17360, 17377, 17408, 17522, 17531, 17534, 17558, 17564, 17571, 17615, 17627, 17647, 17687, 17752, 17855, 17878, 17909, 17966, 18050, 18064, 18086, 18128, 18168, 18181, 18182, 18190, 18261, 18465, 18713, 20045, 20099, 20100, 20112, 20137, 20177, 20187, 20360, 20477, 20618, 21100, 21146, 21154, 21220, 21259, 21301, 21317, 21362, 21427, 21493, 21508, 21520, 21544, 21605, 21657, 21684, 21758, 21824, 21831, 21838, 21891, 21944]\n"
     ]
    }
   ],
   "source": [
    "# Imprimir filas en específico\n",
    "with open('C:\\\\Users\\\\jorge\\\\Desktop\\\\monster_com-job_sample - Copy.csv', 'r', newline='') as csvfile:\n",
    "    reader = csv.reader(csvfile)\n",
    "    rows = list(reader)\n",
    "    job_desc = [row[5] for row in rows]\n",
    "    index = 0\n",
    "    index_with_keyword = []\n",
    "    for i in job_desc:\n",
    "        if i.__contains__('developer'):\n",
    "            index_with_keyword.append(index)\n",
    "        index = index + 1\n",
    "    print(index_with_keyword)"
   ]
  },
  {
   "cell_type": "code",
   "execution_count": 42,
   "metadata": {},
   "outputs": [
    {
     "name": "stdout",
     "output_type": "stream",
     "text": [
      "['United States of America', 'US', '', 'No', 'jobs.monster.com', 'The mission of the Metadata and Configuration Platform (MCP) team is to deliver solutions that enable teams across Amazon to solve the following problems:Organize and manage the contextual metadata that describes the kinds of data in use at Amazon. For example, the attributes for a type of product might need to differ depending on the marketplace in which it is being sold.Safely and quickly modify the runtime behavior of applications without requiring code changes and redeployment or service restart. For example, an application operator may want to add a specialized error message for a particular language without having to redeploy the application. We are part of the Amazon.com e-commerce foundational technology (eCFT) team, which means our software powers one of the largest e-commerce engines in the world. If you want to be part of a team that makes a difference on a large scale, this is it.We are looking for a curious, customer-oriented, inventive, and experienced Technical Program Manager (TPM) to refine and define the vision for the metadata and configuration management services, libraries, and tooling. The candidate thrives in a fast-paced environment, understands the metadata modeling space, and will help us support the business to innovate quickly and safely.As the TPM, you will be responsible for: collaborating with internal customer teams to understand their goals; strategic planning; project management for software within the team; coordination of project dependencies across teams; and process & quality of service improvements. You will be the person that drives our \"working backwards from the customer\" approach to designing and delivering solutions. You will be responsible for helping to define our short- and long-term program roadmap and helping to structure projects so that we continually deliver incremental value to our customers.Successful candidates will: have a technical background; be detail-oriented and data-driven; exhibit excellent problem solving and program management skills. You should not only be passionate about delivering extensible, on-time solutions, but should also be obsessed with contributing to the development of high-performance teams through rigorous goal-setting, disciplined attention to performance metrics, continuous process improvement and mentorship. 6+ years\\' experience managing complex technology projects Very strong organization skills - never let anything fall through the cracks Experience breaking large initiatives into smaller ones that deliver incremental value Experience with project delivery for large, cross functional projects Experience developing Internet products and technologies Bachelor\\'s Degree or 4+years equivalent work experience Excellent written and oral communication skills Experience working with teams spread across remote locations Quantitative analytical abilities Proven problem solving skills Proficient organizational skills Excellent technical skills Degree in computer science or engineering preferred Previous work experience as a software developer Prior experience with agile methodologies', 'Sr. Technical Program Manager Job in Seattle', 'Full Time Employee', 'Seattle, WA', '', 'http://jobview.monster.com/sr-technical-program-manager-job-seattle-wa-us-176994901.aspx?mescoid=1100055001001&jobPosition=3', '', 'Project/Program Management', '9a08168012395994c91531edea878ef4']\n"
     ]
    }
   ],
   "source": [
    "print(rows[15086])"
   ]
  }
 ],
 "metadata": {
  "interpreter": {
   "hash": "7d5c4801ed2f7111b96636c312e7b40cdf96baf0f798db38a95b8dd3c0de6eb6"
  },
  "kernelspec": {
   "display_name": "Python 3.9.7 ('base')",
   "language": "python",
   "name": "python3"
  },
  "language_info": {
   "codemirror_mode": {
    "name": "ipython",
    "version": 3
   },
   "file_extension": ".py",
   "mimetype": "text/x-python",
   "name": "python",
   "nbconvert_exporter": "python",
   "pygments_lexer": "ipython3",
   "version": "3.9.7"
  },
  "orig_nbformat": 4
 },
 "nbformat": 4,
 "nbformat_minor": 2
}
